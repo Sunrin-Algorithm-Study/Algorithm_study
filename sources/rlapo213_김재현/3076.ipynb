{
 "cells": [
  {
   "cell_type": "code",
   "execution_count": 1,
   "id": "a384fbce",
   "metadata": {},
   "outputs": [
    {
     "name": "stdout",
     "output_type": "stream",
     "text": [
      "8 7\n",
      "6 5\n",
      "XXXXX.....XXXXX.....XXXXX.....XXXXX\n",
      "XXXXX.....XXXXX.....XXXXX.....XXXXX\n",
      "XXXXX.....XXXXX.....XXXXX.....XXXXX\n",
      "XXXXX.....XXXXX.....XXXXX.....XXXXX\n",
      "XXXXX.....XXXXX.....XXXXX.....XXXXX\n",
      "XXXXX.....XXXXX.....XXXXX.....XXXXX\n",
      ".....XXXXX.....XXXXX.....XXXXX.....\n",
      ".....XXXXX.....XXXXX.....XXXXX.....\n",
      ".....XXXXX.....XXXXX.....XXXXX.....\n",
      ".....XXXXX.....XXXXX.....XXXXX.....\n",
      ".....XXXXX.....XXXXX.....XXXXX.....\n",
      ".....XXXXX.....XXXXX.....XXXXX.....\n",
      "XXXXX.....XXXXX.....XXXXX.....XXXXX\n",
      "XXXXX.....XXXXX.....XXXXX.....XXXXX\n",
      "XXXXX.....XXXXX.....XXXXX.....XXXXX\n",
      "XXXXX.....XXXXX.....XXXXX.....XXXXX\n",
      "XXXXX.....XXXXX.....XXXXX.....XXXXX\n",
      "XXXXX.....XXXXX.....XXXXX.....XXXXX\n",
      ".....XXXXX.....XXXXX.....XXXXX.....\n",
      ".....XXXXX.....XXXXX.....XXXXX.....\n",
      ".....XXXXX.....XXXXX.....XXXXX.....\n",
      ".....XXXXX.....XXXXX.....XXXXX.....\n",
      ".....XXXXX.....XXXXX.....XXXXX.....\n",
      ".....XXXXX.....XXXXX.....XXXXX.....\n",
      "XXXXX.....XXXXX.....XXXXX.....XXXXX\n",
      "XXXXX.....XXXXX.....XXXXX.....XXXXX\n",
      "XXXXX.....XXXXX.....XXXXX.....XXXXX\n",
      "XXXXX.....XXXXX.....XXXXX.....XXXXX\n",
      "XXXXX.....XXXXX.....XXXXX.....XXXXX\n",
      "XXXXX.....XXXXX.....XXXXX.....XXXXX\n",
      ".....XXXXX.....XXXXX.....XXXXX.....\n",
      ".....XXXXX.....XXXXX.....XXXXX.....\n",
      ".....XXXXX.....XXXXX.....XXXXX.....\n",
      ".....XXXXX.....XXXXX.....XXXXX.....\n",
      ".....XXXXX.....XXXXX.....XXXXX.....\n",
      ".....XXXXX.....XXXXX.....XXXXX.....\n",
      "XXXXX.....XXXXX.....XXXXX.....XXXXX\n",
      "XXXXX.....XXXXX.....XXXXX.....XXXXX\n",
      "XXXXX.....XXXXX.....XXXXX.....XXXXX\n",
      "XXXXX.....XXXXX.....XXXXX.....XXXXX\n",
      "XXXXX.....XXXXX.....XXXXX.....XXXXX\n",
      "XXXXX.....XXXXX.....XXXXX.....XXXXX\n",
      ".....XXXXX.....XXXXX.....XXXXX.....\n",
      ".....XXXXX.....XXXXX.....XXXXX.....\n",
      ".....XXXXX.....XXXXX.....XXXXX.....\n",
      ".....XXXXX.....XXXXX.....XXXXX.....\n",
      ".....XXXXX.....XXXXX.....XXXXX.....\n",
      ".....XXXXX.....XXXXX.....XXXXX.....\n"
     ]
    }
   ],
   "source": [
    "R,C=map(int,input().split())\n",
    "A,B=map(int,input().split())\n",
    "c=0\n",
    "H=0\n",
    "u=0\n",
    "Bcnt=1\n",
    "if (C)%2==0:\n",
    "    c+=1 #짝수면 1\n",
    "for i in range(R*A):\n",
    "    for j in range(C):\n",
    "        \n",
    "        if H==A:\n",
    "            if not c:\n",
    "                Bcnt = not Bcnt\n",
    "            H=0\n",
    "        elif H!=u:\n",
    "            if c:\n",
    "                Bcnt = not Bcnt   \n",
    "        else: \n",
    "            Bcnt=not Bcnt\n",
    "        u=H\n",
    "        for k in range(B):\n",
    "            if Bcnt==False:\n",
    "                print(\"X\",end=\"\")\n",
    "            else:\n",
    "                print(\".\",end=\"\")\n",
    "    H+=1\n",
    "    print()"
   ]
  },
  {
   "cell_type": "code",
   "execution_count": null,
   "id": "22d68474",
   "metadata": {},
   "outputs": [],
   "source": []
  }
 ],
 "metadata": {
  "kernelspec": {
   "display_name": "Python 3 (ipykernel)",
   "language": "python",
   "name": "python3"
  },
  "language_info": {
   "codemirror_mode": {
    "name": "ipython",
    "version": 3
   },
   "file_extension": ".py",
   "mimetype": "text/x-python",
   "name": "python",
   "nbconvert_exporter": "python",
   "pygments_lexer": "ipython3",
   "version": "3.9.7"
  }
 },
 "nbformat": 4,
 "nbformat_minor": 5
}
