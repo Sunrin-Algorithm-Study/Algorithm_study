{
 "cells": [
  {
   "cell_type": "code",
   "execution_count": 97,
   "id": "b01d78b4",
   "metadata": {
    "scrolled": true
   },
   "outputs": [
    {
     "name": "stdout",
     "output_type": "stream",
     "text": [
      "4\n",
      "sbrus.txt\n",
      "acm.icpc\n",
      "korea.icpc\n",
      "sample.txt\n",
      "[]\n"
     ]
    }
   ],
   "source": [
    "import re\n",
    "Sarr={}\n",
    "n=int(input())\n",
    "for i in range(n):\n",
    "    a=input()\n",
    "    reg = re.compile('[.]\\w+')\n",
    "    z=reg.search(a)\n",
    "    if z.group()[1:] in Sarr:\n",
    "        Sarr[z.group()[1:]]=Sarr[z.group()[1:]]+1\n",
    "    else:\n",
    "        Sarr[z.group()[1:]]=1\n",
    "Y=list(Sarr.keys())\n",
    "Y.sort()\n",
    "for i in Y:\n",
    "  print(i,Sarr[i])\n",
    "\n"
   ]
  },
  {
   "cell_type": "code",
   "execution_count": 101,
   "id": "8af90052",
   "metadata": {},
   "outputs": [
    {
     "name": "stdout",
     "output_type": "stream",
     "text": [
      "['aaaa', 'aaab']\n"
     ]
    }
   ],
   "source": [
    "a=\"aaaa.aaab\"\n",
    "print(a.split('.'))"
   ]
  },
  {
   "cell_type": "code",
   "execution_count": null,
   "id": "ac80d470",
   "metadata": {},
   "outputs": [],
   "source": []
  }
 ],
 "metadata": {
  "kernelspec": {
   "display_name": "Python 3 (ipykernel)",
   "language": "python",
   "name": "python3"
  },
  "language_info": {
   "codemirror_mode": {
    "name": "ipython",
    "version": 3
   },
   "file_extension": ".py",
   "mimetype": "text/x-python",
   "name": "python",
   "nbconvert_exporter": "python",
   "pygments_lexer": "ipython3",
   "version": "3.9.7"
  }
 },
 "nbformat": 4,
 "nbformat_minor": 5
}
