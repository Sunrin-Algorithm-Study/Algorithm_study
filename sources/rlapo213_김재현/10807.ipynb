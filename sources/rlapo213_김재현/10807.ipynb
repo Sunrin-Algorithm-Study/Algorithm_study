{
 "cells": [
  {
   "cell_type": "code",
   "execution_count": null,
   "id": "9463f5f3",
   "metadata": {},
   "outputs": [],
   "source": [
    "n=int(input())\n",
    "u=input()\n",
    "a=u.split(' ')\n",
    "j=int(input())\n",
    "print(a.count(str(j)))"
   ]
  }
 ],
 "metadata": {
  "kernelspec": {
   "display_name": "Python 3 (ipykernel)",
   "language": "python",
   "name": "python3"
  },
  "language_info": {
   "codemirror_mode": {
    "name": "ipython",
    "version": 3
   },
   "file_extension": ".py",
   "mimetype": "text/x-python",
   "name": "python",
   "nbconvert_exporter": "python",
   "pygments_lexer": "ipython3",
   "version": "3.9.7"
  }
 },
 "nbformat": 4,
 "nbformat_minor": 5
}
