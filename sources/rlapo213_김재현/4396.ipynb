{
 "cells": [
  {
   "cell_type": "code",
   "execution_count": 31,
   "id": "16c014a0",
   "metadata": {},
   "outputs": [
    {
     "name": "stdout",
     "output_type": "stream",
     "text": [
      "2\n",
      "**\n",
      "**\n",
      "x.\n",
      "..\n",
      "* * \n",
      "* * \n"
     ]
    }
   ],
   "source": [
    "n=int(input())\n",
    "mine=[]\n",
    "user=[]\n",
    "mineflag=0\n",
    "ans = [[0 for col in range(n)] for row in range(n)]\n",
    "\n",
    "def search(x,y,n):\n",
    "    cnt=0\n",
    "    \n",
    "    if x>0 and mine[x-1][y]=='*':\n",
    "        cnt+=1\n",
    "    if y>0 and mine[x][y-1]=='*':\n",
    "        cnt+=1\n",
    "    if x>0 and y>0 and mine[x-1][y-1]=='*':\n",
    "        cnt+=1\n",
    "    if x<n-1 and mine[x+1][y]=='*':\n",
    "        cnt+=1\n",
    "    if y<n-1 and mine[x][y+1]=='*':\n",
    "        cnt+=1\n",
    "    if y<n-1 and x<n-1 and mine[x+1][y+1]=='*':\n",
    "        cnt+=1\n",
    "    if x>0 and y<n-1 and mine[x-1][y+1]=='*':\n",
    "        cnt+=1\n",
    "    if y>0 and x<n-1 and mine[x+1][y-1]=='*':\n",
    "        cnt+=1\n",
    "        \n",
    "    return cnt\n",
    "\n",
    "for i in range(n):\n",
    "    a=input()\n",
    "    mine.append(a)\n",
    "for j in range(n):\n",
    "    a=input()\n",
    "    user.append(a)\n",
    "\n",
    "    \n",
    "for i in range(n):\n",
    "    for j in range(n):\n",
    "        if user[i][j]=='x':\n",
    "            if mineflag==0:\n",
    "                if mine[i][j]=='*':\n",
    "                    mineflag=1\n",
    "            k=search(i,j,n)\n",
    "            ans[i][j]=k\n",
    "        elif user[i][j]=='.':\n",
    "            ans[i][j]='.'\n",
    "\n",
    "if mineflag==1:\n",
    "    for i in range(n):\n",
    "        for j in range(n):\n",
    "            if mine[i][j]=='*':\n",
    "                ans[i][j]='*'\n",
    "            \n",
    "            \n",
    "for i in ans :\n",
    "    for j in i:\n",
    "        print(j,end=\"\")\n",
    "    print()\n",
    "            \n",
    "    \n"
   ]
  }
 ],
 "metadata": {
  "kernelspec": {
   "display_name": "Python 3 (ipykernel)",
   "language": "python",
   "name": "python3"
  },
  "language_info": {
   "codemirror_mode": {
    "name": "ipython",
    "version": 3
   },
   "file_extension": ".py",
   "mimetype": "text/x-python",
   "name": "python",
   "nbconvert_exporter": "python",
   "pygments_lexer": "ipython3",
   "version": "3.9.7"
  }
 },
 "nbformat": 4,
 "nbformat_minor": 5
}
