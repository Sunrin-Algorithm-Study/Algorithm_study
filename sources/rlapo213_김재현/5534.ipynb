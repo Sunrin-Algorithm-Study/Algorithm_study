{
 "cells": [
  {
   "cell_type": "code",
   "execution_count": null,
   "id": "9b575f2d",
   "metadata": {},
   "outputs": [],
   "source": [
    "n=int(input())\n",
    "key=input()\n",
    "idx=0\n",
    "s=0\n",
    "for i in range(n):\n",
    "    a=input()\n",
    "    key1=[]\n",
    "    key2=[]\n",
    "    for j in range(len(a)):\n",
    "        if key[0]==a[j]:\n",
    "            key1.append(j)\n",
    "        if key[1]==a[j]:\n",
    "            key2.append(j)\n",
    "    y=s\n",
    "    for j in key1:\n",
    "        if s-y==1:\n",
    "            break\n",
    "        for u in key2:\n",
    "            if j<u:\n",
    "                fix=u-j\n",
    "                idx=0\n",
    "                flag=0\n",
    "                for q in range(j,len(a),fix):\n",
    "                    if a[q]==key[idx]:\n",
    "                        idx+=1\n",
    "                        if idx==len(key):\n",
    "                            break\n",
    "                    else:\n",
    "                        flag=1\n",
    "                        break\n",
    "                if flag==0 and idx==len(key):\n",
    "                    s+=1\n",
    "                    break\n",
    "print(s)\n"
   ]
  }
 ],
 "metadata": {
  "kernelspec": {
   "display_name": "Python 3 (ipykernel)",
   "language": "python",
   "name": "python3"
  },
  "language_info": {
   "codemirror_mode": {
    "name": "ipython",
    "version": 3
   },
   "file_extension": ".py",
   "mimetype": "text/x-python",
   "name": "python",
   "nbconvert_exporter": "python",
   "pygments_lexer": "ipython3",
   "version": "3.9.7"
  }
 },
 "nbformat": 4,
 "nbformat_minor": 5
}
