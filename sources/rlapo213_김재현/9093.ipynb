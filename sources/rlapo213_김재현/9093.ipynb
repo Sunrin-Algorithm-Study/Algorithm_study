{
 "cells": [
  {
   "cell_type": "code",
   "execution_count": 10,
   "id": "69f520e8",
   "metadata": {},
   "outputs": [
    {
     "name": "stdout",
     "output_type": "stream",
     "text": [
      "2\n",
      "I am happy today\n",
      "I ma yppah yadot \n",
      "We want to win the first prize\n",
      "eW tnaw ot niw eht tsrif ezirp \n"
     ]
    }
   ],
   "source": [
    "T=int(input())\n",
    "for i in range(T):\n",
    "    a=input()\n",
    "    b=a.split()\n",
    "    l=len(b)\n",
    "    for i in range(l):\n",
    "        print(b[i][::-1],end=\" \")\n",
    "    print()"
   ]
  },
  {
   "cell_type": "code",
   "execution_count": null,
   "id": "b561a24c",
   "metadata": {},
   "outputs": [],
   "source": []
  }
 ],
 "metadata": {
  "kernelspec": {
   "display_name": "Python 3 (ipykernel)",
   "language": "python",
   "name": "python3"
  },
  "language_info": {
   "codemirror_mode": {
    "name": "ipython",
    "version": 3
   },
   "file_extension": ".py",
   "mimetype": "text/x-python",
   "name": "python",
   "nbconvert_exporter": "python",
   "pygments_lexer": "ipython3",
   "version": "3.9.7"
  }
 },
 "nbformat": 4,
 "nbformat_minor": 5
}
